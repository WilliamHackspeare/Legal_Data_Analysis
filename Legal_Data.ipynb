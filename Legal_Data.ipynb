{
  "nbformat": 4,
  "nbformat_minor": 0,
  "metadata": {
    "colab": {
      "provenance": [],
      "authorship_tag": "ABX9TyMkFAn6ZizieduU7pyJ2Raw",
      "include_colab_link": true
    },
    "kernelspec": {
      "name": "python3",
      "display_name": "Python 3"
    },
    "language_info": {
      "name": "python"
    }
  },
  "cells": [
    {
      "cell_type": "markdown",
      "metadata": {
        "id": "view-in-github",
        "colab_type": "text"
      },
      "source": [
        "<a href=\"https://colab.research.google.com/github/WilliamHackspeare/Legal_Data_Analysis/blob/main/Legal_Data.ipynb\" target=\"_parent\"><img src=\"https://colab.research.google.com/assets/colab-badge.svg\" alt=\"Open In Colab\"/></a>"
      ]
    },
    {
      "cell_type": "code",
      "execution_count": 1,
      "metadata": {
        "colab": {
          "base_uri": "https://localhost:8080/"
        },
        "id": "MOPrFjUJw-FX",
        "outputId": "accb7eb2-bd52-44d9-9556-bb7d092feb2c"
      },
      "outputs": [
        {
          "output_type": "stream",
          "name": "stdout",
          "text": [
            "Drive already mounted at /content/drive; to attempt to forcibly remount, call drive.mount(\"/content/drive\", force_remount=True).\n"
          ]
        }
      ],
      "source": [
        "from google.colab import drive\n",
        "drive.mount('/content/drive')"
      ]
    },
    {
      "cell_type": "code",
      "source": [
        "%cd /content/drive/MyDrive/legal_data"
      ],
      "metadata": {
        "colab": {
          "base_uri": "https://localhost:8080/"
        },
        "id": "DxsUyH24zxqz",
        "outputId": "eebb427d-6ade-4f66-d9c5-176c1dbd3273"
      },
      "execution_count": 2,
      "outputs": [
        {
          "output_type": "stream",
          "name": "stdout",
          "text": [
            "/content/drive/MyDrive/legal_data\n"
          ]
        }
      ]
    },
    {
      "cell_type": "code",
      "source": [
        "!ls"
      ],
      "metadata": {
        "colab": {
          "base_uri": "https://localhost:8080/"
        },
        "id": "Z2wvHk_t0MX5",
        "outputId": "8e243bf5-8de4-42f2-a2ae-9c4fb6a65681"
      },
      "execution_count": 3,
      "outputs": [
        {
          "output_type": "stream",
          "name": "stdout",
          "text": [
            "acts_sections  cases  cases_2010_v2.csv  judges_clean  keys\n"
          ]
        }
      ]
    },
    {
      "cell_type": "code",
      "source": [
        "import pandas as pd\n",
        "import numpy as np"
      ],
      "metadata": {
        "id": "gkQDtmHm0Tfr"
      },
      "execution_count": 4,
      "outputs": []
    },
    {
      "cell_type": "code",
      "source": [
        "cases_2010 = pd.read_csv('cases/cases_2010.csv')"
      ],
      "metadata": {
        "id": "sUqynLoo0iah"
      },
      "execution_count": 5,
      "outputs": []
    },
    {
      "cell_type": "code",
      "source": [
        "iter_as = pd.read_csv('acts_sections/acts_sections.csv',iterator=True,chunksize=1000000)\n",
        "acts_sections = pd.concat([chunk[chunk['ddl_case_id'].isin(cases_2010['ddl_case_id'])] for chunk in iter_as])"
      ],
      "metadata": {
        "id": "ZvSXfiLQ-n_I",
        "colab": {
          "base_uri": "https://localhost:8080/"
        },
        "outputId": "5e9a8526-1487-4ea1-c12b-24c1ac1119fc"
      },
      "execution_count": 6,
      "outputs": [
        {
          "output_type": "stream",
          "name": "stderr",
          "text": [
            "/usr/local/lib/python3.8/dist-packages/IPython/core/interactiveshell.py:3326: DtypeWarning: Columns (3) have mixed types.Specify dtype option on import or set low_memory=False.\n",
            "  exec(code_obj, self.user_global_ns, self.user_ns)\n"
          ]
        }
      ]
    },
    {
      "cell_type": "code",
      "source": [
        "acts_sections = acts_sections.astype(str)"
      ],
      "metadata": {
        "id": "O4As7HVRh01_"
      },
      "execution_count": 7,
      "outputs": []
    },
    {
      "cell_type": "code",
      "source": [
        "acts_sections.describe()"
      ],
      "metadata": {
        "colab": {
          "base_uri": "https://localhost:8080/",
          "height": 175
        },
        "id": "utMASWIghmzm",
        "outputId": "e4af5549-653a-4b91-88fb-5ac8093ad63b"
      },
      "execution_count": 8,
      "outputs": [
        {
          "output_type": "execute_result",
          "data": {
            "text/plain": [
              "                     ddl_case_id      act  section bailable_ipc  \\\n",
              "count                    2190872  2190872  2190872      2190872   \n",
              "unique                   2190872     6092   112198            6   \n",
              "top     01-09-02-203003037042010  17353.0      nan          nan   \n",
              "freq                           1   680495   245507      1735665   \n",
              "\n",
              "       number_sections_ipc criminal  \n",
              "count              2190872  2190872  \n",
              "unique                  27        2  \n",
              "top                    nan        0  \n",
              "freq               1510377  1353458  "
            ],
            "text/html": [
              "\n",
              "  <div id=\"df-ae25ef35-cfad-4340-88d8-3540d63cd28a\">\n",
              "    <div class=\"colab-df-container\">\n",
              "      <div>\n",
              "<style scoped>\n",
              "    .dataframe tbody tr th:only-of-type {\n",
              "        vertical-align: middle;\n",
              "    }\n",
              "\n",
              "    .dataframe tbody tr th {\n",
              "        vertical-align: top;\n",
              "    }\n",
              "\n",
              "    .dataframe thead th {\n",
              "        text-align: right;\n",
              "    }\n",
              "</style>\n",
              "<table border=\"1\" class=\"dataframe\">\n",
              "  <thead>\n",
              "    <tr style=\"text-align: right;\">\n",
              "      <th></th>\n",
              "      <th>ddl_case_id</th>\n",
              "      <th>act</th>\n",
              "      <th>section</th>\n",
              "      <th>bailable_ipc</th>\n",
              "      <th>number_sections_ipc</th>\n",
              "      <th>criminal</th>\n",
              "    </tr>\n",
              "  </thead>\n",
              "  <tbody>\n",
              "    <tr>\n",
              "      <th>count</th>\n",
              "      <td>2190872</td>\n",
              "      <td>2190872</td>\n",
              "      <td>2190872</td>\n",
              "      <td>2190872</td>\n",
              "      <td>2190872</td>\n",
              "      <td>2190872</td>\n",
              "    </tr>\n",
              "    <tr>\n",
              "      <th>unique</th>\n",
              "      <td>2190872</td>\n",
              "      <td>6092</td>\n",
              "      <td>112198</td>\n",
              "      <td>6</td>\n",
              "      <td>27</td>\n",
              "      <td>2</td>\n",
              "    </tr>\n",
              "    <tr>\n",
              "      <th>top</th>\n",
              "      <td>01-09-02-203003037042010</td>\n",
              "      <td>17353.0</td>\n",
              "      <td>nan</td>\n",
              "      <td>nan</td>\n",
              "      <td>nan</td>\n",
              "      <td>0</td>\n",
              "    </tr>\n",
              "    <tr>\n",
              "      <th>freq</th>\n",
              "      <td>1</td>\n",
              "      <td>680495</td>\n",
              "      <td>245507</td>\n",
              "      <td>1735665</td>\n",
              "      <td>1510377</td>\n",
              "      <td>1353458</td>\n",
              "    </tr>\n",
              "  </tbody>\n",
              "</table>\n",
              "</div>\n",
              "      <button class=\"colab-df-convert\" onclick=\"convertToInteractive('df-ae25ef35-cfad-4340-88d8-3540d63cd28a')\"\n",
              "              title=\"Convert this dataframe to an interactive table.\"\n",
              "              style=\"display:none;\">\n",
              "        \n",
              "  <svg xmlns=\"http://www.w3.org/2000/svg\" height=\"24px\"viewBox=\"0 0 24 24\"\n",
              "       width=\"24px\">\n",
              "    <path d=\"M0 0h24v24H0V0z\" fill=\"none\"/>\n",
              "    <path d=\"M18.56 5.44l.94 2.06.94-2.06 2.06-.94-2.06-.94-.94-2.06-.94 2.06-2.06.94zm-11 1L8.5 8.5l.94-2.06 2.06-.94-2.06-.94L8.5 2.5l-.94 2.06-2.06.94zm10 10l.94 2.06.94-2.06 2.06-.94-2.06-.94-.94-2.06-.94 2.06-2.06.94z\"/><path d=\"M17.41 7.96l-1.37-1.37c-.4-.4-.92-.59-1.43-.59-.52 0-1.04.2-1.43.59L10.3 9.45l-7.72 7.72c-.78.78-.78 2.05 0 2.83L4 21.41c.39.39.9.59 1.41.59.51 0 1.02-.2 1.41-.59l7.78-7.78 2.81-2.81c.8-.78.8-2.07 0-2.86zM5.41 20L4 18.59l7.72-7.72 1.47 1.35L5.41 20z\"/>\n",
              "  </svg>\n",
              "      </button>\n",
              "      \n",
              "  <style>\n",
              "    .colab-df-container {\n",
              "      display:flex;\n",
              "      flex-wrap:wrap;\n",
              "      gap: 12px;\n",
              "    }\n",
              "\n",
              "    .colab-df-convert {\n",
              "      background-color: #E8F0FE;\n",
              "      border: none;\n",
              "      border-radius: 50%;\n",
              "      cursor: pointer;\n",
              "      display: none;\n",
              "      fill: #1967D2;\n",
              "      height: 32px;\n",
              "      padding: 0 0 0 0;\n",
              "      width: 32px;\n",
              "    }\n",
              "\n",
              "    .colab-df-convert:hover {\n",
              "      background-color: #E2EBFA;\n",
              "      box-shadow: 0px 1px 2px rgba(60, 64, 67, 0.3), 0px 1px 3px 1px rgba(60, 64, 67, 0.15);\n",
              "      fill: #174EA6;\n",
              "    }\n",
              "\n",
              "    [theme=dark] .colab-df-convert {\n",
              "      background-color: #3B4455;\n",
              "      fill: #D2E3FC;\n",
              "    }\n",
              "\n",
              "    [theme=dark] .colab-df-convert:hover {\n",
              "      background-color: #434B5C;\n",
              "      box-shadow: 0px 1px 3px 1px rgba(0, 0, 0, 0.15);\n",
              "      filter: drop-shadow(0px 1px 2px rgba(0, 0, 0, 0.3));\n",
              "      fill: #FFFFFF;\n",
              "    }\n",
              "  </style>\n",
              "\n",
              "      <script>\n",
              "        const buttonEl =\n",
              "          document.querySelector('#df-ae25ef35-cfad-4340-88d8-3540d63cd28a button.colab-df-convert');\n",
              "        buttonEl.style.display =\n",
              "          google.colab.kernel.accessAllowed ? 'block' : 'none';\n",
              "\n",
              "        async function convertToInteractive(key) {\n",
              "          const element = document.querySelector('#df-ae25ef35-cfad-4340-88d8-3540d63cd28a');\n",
              "          const dataTable =\n",
              "            await google.colab.kernel.invokeFunction('convertToInteractive',\n",
              "                                                     [key], {});\n",
              "          if (!dataTable) return;\n",
              "\n",
              "          const docLinkHtml = 'Like what you see? Visit the ' +\n",
              "            '<a target=\"_blank\" href=https://colab.research.google.com/notebooks/data_table.ipynb>data table notebook</a>'\n",
              "            + ' to learn more about interactive tables.';\n",
              "          element.innerHTML = '';\n",
              "          dataTable['output_type'] = 'display_data';\n",
              "          await google.colab.output.renderOutput(dataTable, element);\n",
              "          const docLink = document.createElement('div');\n",
              "          docLink.innerHTML = docLinkHtml;\n",
              "          element.appendChild(docLink);\n",
              "        }\n",
              "      </script>\n",
              "    </div>\n",
              "  </div>\n",
              "  "
            ]
          },
          "metadata": {},
          "execution_count": 8
        }
      ]
    },
    {
      "cell_type": "code",
      "source": [
        "acts_sections['bailable_ipc'].value_counts()"
      ],
      "metadata": {
        "colab": {
          "base_uri": "https://localhost:8080/"
        },
        "id": "R9urwsSxn29L",
        "outputId": "48697988-e1a8-4168-a14e-735da584458b"
      },
      "execution_count": 9,
      "outputs": [
        {
          "output_type": "execute_result",
          "data": {
            "text/plain": [
              "nan                          1735665\n",
              "bailable                      249281\n",
              "non-bailable                  176019\n",
              "not applicable to section      15688\n",
              "depends                        12819\n",
              "unclear, need to check          1400\n",
              "Name: bailable_ipc, dtype: int64"
            ]
          },
          "metadata": {},
          "execution_count": 9
        }
      ]
    },
    {
      "cell_type": "code",
      "source": [
        "disp_key = pd.read_csv('keys/disp_name_key.csv')\n",
        "disp_key = disp_key[disp_key['year']==2010]\n",
        "purp_key = pd.read_csv('keys/purpose_name_key.csv')\n",
        "purp_key = purp_key[purp_key['year']==2010]"
      ],
      "metadata": {
        "id": "4TPO87aw-6zZ"
      },
      "execution_count": 10,
      "outputs": []
    },
    {
      "cell_type": "code",
      "source": [
        "cases_2010.dropna(inplace=True)"
      ],
      "metadata": {
        "id": "sO4Uoaw6NNiS"
      },
      "execution_count": 11,
      "outputs": []
    },
    {
      "cell_type": "code",
      "source": [
        "disp_key = disp_key.astype(str)\n",
        "purp_key = purp_key.astype(str)"
      ],
      "metadata": {
        "id": "C13qEGVpXE4O"
      },
      "execution_count": 12,
      "outputs": []
    },
    {
      "cell_type": "code",
      "source": [
        " cases_2010 = cases_2010.astype(str)"
      ],
      "metadata": {
        "id": "NK_O_4339OVH"
      },
      "execution_count": 13,
      "outputs": []
    },
    {
      "cell_type": "code",
      "source": [
        "disp_key.describe()"
      ],
      "metadata": {
        "colab": {
          "base_uri": "https://localhost:8080/",
          "height": 175
        },
        "id": "EJyjIQRKcYra",
        "outputId": "b5fadb09-f6de-42c6-d1f2-ce363e6c1183"
      },
      "execution_count": 14,
      "outputs": [
        {
          "output_type": "execute_result",
          "data": {
            "text/plain": [
              "        year disp_name disp_name_s  count\n",
              "count     51        51          51     51\n",
              "unique     1        51          51     51\n",
              "top     2010         1    258 crpc  15765\n",
              "freq      51         1           1      1"
            ],
            "text/html": [
              "\n",
              "  <div id=\"df-95489225-ded4-407e-8621-e776cfce7a73\">\n",
              "    <div class=\"colab-df-container\">\n",
              "      <div>\n",
              "<style scoped>\n",
              "    .dataframe tbody tr th:only-of-type {\n",
              "        vertical-align: middle;\n",
              "    }\n",
              "\n",
              "    .dataframe tbody tr th {\n",
              "        vertical-align: top;\n",
              "    }\n",
              "\n",
              "    .dataframe thead th {\n",
              "        text-align: right;\n",
              "    }\n",
              "</style>\n",
              "<table border=\"1\" class=\"dataframe\">\n",
              "  <thead>\n",
              "    <tr style=\"text-align: right;\">\n",
              "      <th></th>\n",
              "      <th>year</th>\n",
              "      <th>disp_name</th>\n",
              "      <th>disp_name_s</th>\n",
              "      <th>count</th>\n",
              "    </tr>\n",
              "  </thead>\n",
              "  <tbody>\n",
              "    <tr>\n",
              "      <th>count</th>\n",
              "      <td>51</td>\n",
              "      <td>51</td>\n",
              "      <td>51</td>\n",
              "      <td>51</td>\n",
              "    </tr>\n",
              "    <tr>\n",
              "      <th>unique</th>\n",
              "      <td>1</td>\n",
              "      <td>51</td>\n",
              "      <td>51</td>\n",
              "      <td>51</td>\n",
              "    </tr>\n",
              "    <tr>\n",
              "      <th>top</th>\n",
              "      <td>2010</td>\n",
              "      <td>1</td>\n",
              "      <td>258 crpc</td>\n",
              "      <td>15765</td>\n",
              "    </tr>\n",
              "    <tr>\n",
              "      <th>freq</th>\n",
              "      <td>51</td>\n",
              "      <td>1</td>\n",
              "      <td>1</td>\n",
              "      <td>1</td>\n",
              "    </tr>\n",
              "  </tbody>\n",
              "</table>\n",
              "</div>\n",
              "      <button class=\"colab-df-convert\" onclick=\"convertToInteractive('df-95489225-ded4-407e-8621-e776cfce7a73')\"\n",
              "              title=\"Convert this dataframe to an interactive table.\"\n",
              "              style=\"display:none;\">\n",
              "        \n",
              "  <svg xmlns=\"http://www.w3.org/2000/svg\" height=\"24px\"viewBox=\"0 0 24 24\"\n",
              "       width=\"24px\">\n",
              "    <path d=\"M0 0h24v24H0V0z\" fill=\"none\"/>\n",
              "    <path d=\"M18.56 5.44l.94 2.06.94-2.06 2.06-.94-2.06-.94-.94-2.06-.94 2.06-2.06.94zm-11 1L8.5 8.5l.94-2.06 2.06-.94-2.06-.94L8.5 2.5l-.94 2.06-2.06.94zm10 10l.94 2.06.94-2.06 2.06-.94-2.06-.94-.94-2.06-.94 2.06-2.06.94z\"/><path d=\"M17.41 7.96l-1.37-1.37c-.4-.4-.92-.59-1.43-.59-.52 0-1.04.2-1.43.59L10.3 9.45l-7.72 7.72c-.78.78-.78 2.05 0 2.83L4 21.41c.39.39.9.59 1.41.59.51 0 1.02-.2 1.41-.59l7.78-7.78 2.81-2.81c.8-.78.8-2.07 0-2.86zM5.41 20L4 18.59l7.72-7.72 1.47 1.35L5.41 20z\"/>\n",
              "  </svg>\n",
              "      </button>\n",
              "      \n",
              "  <style>\n",
              "    .colab-df-container {\n",
              "      display:flex;\n",
              "      flex-wrap:wrap;\n",
              "      gap: 12px;\n",
              "    }\n",
              "\n",
              "    .colab-df-convert {\n",
              "      background-color: #E8F0FE;\n",
              "      border: none;\n",
              "      border-radius: 50%;\n",
              "      cursor: pointer;\n",
              "      display: none;\n",
              "      fill: #1967D2;\n",
              "      height: 32px;\n",
              "      padding: 0 0 0 0;\n",
              "      width: 32px;\n",
              "    }\n",
              "\n",
              "    .colab-df-convert:hover {\n",
              "      background-color: #E2EBFA;\n",
              "      box-shadow: 0px 1px 2px rgba(60, 64, 67, 0.3), 0px 1px 3px 1px rgba(60, 64, 67, 0.15);\n",
              "      fill: #174EA6;\n",
              "    }\n",
              "\n",
              "    [theme=dark] .colab-df-convert {\n",
              "      background-color: #3B4455;\n",
              "      fill: #D2E3FC;\n",
              "    }\n",
              "\n",
              "    [theme=dark] .colab-df-convert:hover {\n",
              "      background-color: #434B5C;\n",
              "      box-shadow: 0px 1px 3px 1px rgba(0, 0, 0, 0.15);\n",
              "      filter: drop-shadow(0px 1px 2px rgba(0, 0, 0, 0.3));\n",
              "      fill: #FFFFFF;\n",
              "    }\n",
              "  </style>\n",
              "\n",
              "      <script>\n",
              "        const buttonEl =\n",
              "          document.querySelector('#df-95489225-ded4-407e-8621-e776cfce7a73 button.colab-df-convert');\n",
              "        buttonEl.style.display =\n",
              "          google.colab.kernel.accessAllowed ? 'block' : 'none';\n",
              "\n",
              "        async function convertToInteractive(key) {\n",
              "          const element = document.querySelector('#df-95489225-ded4-407e-8621-e776cfce7a73');\n",
              "          const dataTable =\n",
              "            await google.colab.kernel.invokeFunction('convertToInteractive',\n",
              "                                                     [key], {});\n",
              "          if (!dataTable) return;\n",
              "\n",
              "          const docLinkHtml = 'Like what you see? Visit the ' +\n",
              "            '<a target=\"_blank\" href=https://colab.research.google.com/notebooks/data_table.ipynb>data table notebook</a>'\n",
              "            + ' to learn more about interactive tables.';\n",
              "          element.innerHTML = '';\n",
              "          dataTable['output_type'] = 'display_data';\n",
              "          await google.colab.output.renderOutput(dataTable, element);\n",
              "          const docLink = document.createElement('div');\n",
              "          docLink.innerHTML = docLinkHtml;\n",
              "          element.appendChild(docLink);\n",
              "        }\n",
              "      </script>\n",
              "    </div>\n",
              "  </div>\n",
              "  "
            ]
          },
          "metadata": {},
          "execution_count": 14
        }
      ]
    },
    {
      "cell_type": "code",
      "source": [
        "cases_2010.describe()"
      ],
      "metadata": {
        "colab": {
          "base_uri": "https://localhost:8080/",
          "height": 256
        },
        "id": "IAaaSTEkCeDh",
        "outputId": "330f90bd-2317-49aa-b6fe-f2b434adcf51"
      },
      "execution_count": 15,
      "outputs": [
        {
          "output_type": "execute_result",
          "data": {
            "text/plain": [
              "                     ddl_case_id     year state_code dist_code court_no  \\\n",
              "count                    3298518  3298518    3298518   3298518  3298518   \n",
              "unique                   3298518        1         31        75       65   \n",
              "top     01-01-01-200308002162010     2010          1         1        1   \n",
              "freq                           1  3298518     760617    168347   626891   \n",
              "\n",
              "                    cino               judge_position female_defendant  \\\n",
              "count            3298518                      3298518          3298518   \n",
              "unique           3293058                          415                4   \n",
              "top     TNSA010008922010  district and sessions court           0 male   \n",
              "freq                   3                       641834          2219700   \n",
              "\n",
              "       female_petitioner female_adv_def female_adv_pet type_name purpose_name  \\\n",
              "count            3298518        3298518        3298518   3298518      3298518   \n",
              "unique                 4              4              4      5092         4604   \n",
              "top        -9998 unclear          -9999          -9999       682       1963.0   \n",
              "freq             1472001        2410238        1388855    274408       466661   \n",
              "\n",
              "       disp_name date_of_filing date_of_decision date_first_list  \\\n",
              "count    3298518        3298518          3298518         3298518   \n",
              "unique        51            365             4163            4422   \n",
              "top           22     2010-09-13       2014-12-06      2010-12-11   \n",
              "freq      498930          17171            27890           11891   \n",
              "\n",
              "       date_last_list date_next_list  \n",
              "count         3298518        3298518  \n",
              "unique           4121           4344  \n",
              "top        2010-12-11     2014-12-06  \n",
              "freq            11740          23142  "
            ],
            "text/html": [
              "\n",
              "  <div id=\"df-6befdcc5-c40e-48f2-9b84-8c6b928b5af0\">\n",
              "    <div class=\"colab-df-container\">\n",
              "      <div>\n",
              "<style scoped>\n",
              "    .dataframe tbody tr th:only-of-type {\n",
              "        vertical-align: middle;\n",
              "    }\n",
              "\n",
              "    .dataframe tbody tr th {\n",
              "        vertical-align: top;\n",
              "    }\n",
              "\n",
              "    .dataframe thead th {\n",
              "        text-align: right;\n",
              "    }\n",
              "</style>\n",
              "<table border=\"1\" class=\"dataframe\">\n",
              "  <thead>\n",
              "    <tr style=\"text-align: right;\">\n",
              "      <th></th>\n",
              "      <th>ddl_case_id</th>\n",
              "      <th>year</th>\n",
              "      <th>state_code</th>\n",
              "      <th>dist_code</th>\n",
              "      <th>court_no</th>\n",
              "      <th>cino</th>\n",
              "      <th>judge_position</th>\n",
              "      <th>female_defendant</th>\n",
              "      <th>female_petitioner</th>\n",
              "      <th>female_adv_def</th>\n",
              "      <th>female_adv_pet</th>\n",
              "      <th>type_name</th>\n",
              "      <th>purpose_name</th>\n",
              "      <th>disp_name</th>\n",
              "      <th>date_of_filing</th>\n",
              "      <th>date_of_decision</th>\n",
              "      <th>date_first_list</th>\n",
              "      <th>date_last_list</th>\n",
              "      <th>date_next_list</th>\n",
              "    </tr>\n",
              "  </thead>\n",
              "  <tbody>\n",
              "    <tr>\n",
              "      <th>count</th>\n",
              "      <td>3298518</td>\n",
              "      <td>3298518</td>\n",
              "      <td>3298518</td>\n",
              "      <td>3298518</td>\n",
              "      <td>3298518</td>\n",
              "      <td>3298518</td>\n",
              "      <td>3298518</td>\n",
              "      <td>3298518</td>\n",
              "      <td>3298518</td>\n",
              "      <td>3298518</td>\n",
              "      <td>3298518</td>\n",
              "      <td>3298518</td>\n",
              "      <td>3298518</td>\n",
              "      <td>3298518</td>\n",
              "      <td>3298518</td>\n",
              "      <td>3298518</td>\n",
              "      <td>3298518</td>\n",
              "      <td>3298518</td>\n",
              "      <td>3298518</td>\n",
              "    </tr>\n",
              "    <tr>\n",
              "      <th>unique</th>\n",
              "      <td>3298518</td>\n",
              "      <td>1</td>\n",
              "      <td>31</td>\n",
              "      <td>75</td>\n",
              "      <td>65</td>\n",
              "      <td>3293058</td>\n",
              "      <td>415</td>\n",
              "      <td>4</td>\n",
              "      <td>4</td>\n",
              "      <td>4</td>\n",
              "      <td>4</td>\n",
              "      <td>5092</td>\n",
              "      <td>4604</td>\n",
              "      <td>51</td>\n",
              "      <td>365</td>\n",
              "      <td>4163</td>\n",
              "      <td>4422</td>\n",
              "      <td>4121</td>\n",
              "      <td>4344</td>\n",
              "    </tr>\n",
              "    <tr>\n",
              "      <th>top</th>\n",
              "      <td>01-01-01-200308002162010</td>\n",
              "      <td>2010</td>\n",
              "      <td>1</td>\n",
              "      <td>1</td>\n",
              "      <td>1</td>\n",
              "      <td>TNSA010008922010</td>\n",
              "      <td>district and sessions court</td>\n",
              "      <td>0 male</td>\n",
              "      <td>-9998 unclear</td>\n",
              "      <td>-9999</td>\n",
              "      <td>-9999</td>\n",
              "      <td>682</td>\n",
              "      <td>1963.0</td>\n",
              "      <td>22</td>\n",
              "      <td>2010-09-13</td>\n",
              "      <td>2014-12-06</td>\n",
              "      <td>2010-12-11</td>\n",
              "      <td>2010-12-11</td>\n",
              "      <td>2014-12-06</td>\n",
              "    </tr>\n",
              "    <tr>\n",
              "      <th>freq</th>\n",
              "      <td>1</td>\n",
              "      <td>3298518</td>\n",
              "      <td>760617</td>\n",
              "      <td>168347</td>\n",
              "      <td>626891</td>\n",
              "      <td>3</td>\n",
              "      <td>641834</td>\n",
              "      <td>2219700</td>\n",
              "      <td>1472001</td>\n",
              "      <td>2410238</td>\n",
              "      <td>1388855</td>\n",
              "      <td>274408</td>\n",
              "      <td>466661</td>\n",
              "      <td>498930</td>\n",
              "      <td>17171</td>\n",
              "      <td>27890</td>\n",
              "      <td>11891</td>\n",
              "      <td>11740</td>\n",
              "      <td>23142</td>\n",
              "    </tr>\n",
              "  </tbody>\n",
              "</table>\n",
              "</div>\n",
              "      <button class=\"colab-df-convert\" onclick=\"convertToInteractive('df-6befdcc5-c40e-48f2-9b84-8c6b928b5af0')\"\n",
              "              title=\"Convert this dataframe to an interactive table.\"\n",
              "              style=\"display:none;\">\n",
              "        \n",
              "  <svg xmlns=\"http://www.w3.org/2000/svg\" height=\"24px\"viewBox=\"0 0 24 24\"\n",
              "       width=\"24px\">\n",
              "    <path d=\"M0 0h24v24H0V0z\" fill=\"none\"/>\n",
              "    <path d=\"M18.56 5.44l.94 2.06.94-2.06 2.06-.94-2.06-.94-.94-2.06-.94 2.06-2.06.94zm-11 1L8.5 8.5l.94-2.06 2.06-.94-2.06-.94L8.5 2.5l-.94 2.06-2.06.94zm10 10l.94 2.06.94-2.06 2.06-.94-2.06-.94-.94-2.06-.94 2.06-2.06.94z\"/><path d=\"M17.41 7.96l-1.37-1.37c-.4-.4-.92-.59-1.43-.59-.52 0-1.04.2-1.43.59L10.3 9.45l-7.72 7.72c-.78.78-.78 2.05 0 2.83L4 21.41c.39.39.9.59 1.41.59.51 0 1.02-.2 1.41-.59l7.78-7.78 2.81-2.81c.8-.78.8-2.07 0-2.86zM5.41 20L4 18.59l7.72-7.72 1.47 1.35L5.41 20z\"/>\n",
              "  </svg>\n",
              "      </button>\n",
              "      \n",
              "  <style>\n",
              "    .colab-df-container {\n",
              "      display:flex;\n",
              "      flex-wrap:wrap;\n",
              "      gap: 12px;\n",
              "    }\n",
              "\n",
              "    .colab-df-convert {\n",
              "      background-color: #E8F0FE;\n",
              "      border: none;\n",
              "      border-radius: 50%;\n",
              "      cursor: pointer;\n",
              "      display: none;\n",
              "      fill: #1967D2;\n",
              "      height: 32px;\n",
              "      padding: 0 0 0 0;\n",
              "      width: 32px;\n",
              "    }\n",
              "\n",
              "    .colab-df-convert:hover {\n",
              "      background-color: #E2EBFA;\n",
              "      box-shadow: 0px 1px 2px rgba(60, 64, 67, 0.3), 0px 1px 3px 1px rgba(60, 64, 67, 0.15);\n",
              "      fill: #174EA6;\n",
              "    }\n",
              "\n",
              "    [theme=dark] .colab-df-convert {\n",
              "      background-color: #3B4455;\n",
              "      fill: #D2E3FC;\n",
              "    }\n",
              "\n",
              "    [theme=dark] .colab-df-convert:hover {\n",
              "      background-color: #434B5C;\n",
              "      box-shadow: 0px 1px 3px 1px rgba(0, 0, 0, 0.15);\n",
              "      filter: drop-shadow(0px 1px 2px rgba(0, 0, 0, 0.3));\n",
              "      fill: #FFFFFF;\n",
              "    }\n",
              "  </style>\n",
              "\n",
              "      <script>\n",
              "        const buttonEl =\n",
              "          document.querySelector('#df-6befdcc5-c40e-48f2-9b84-8c6b928b5af0 button.colab-df-convert');\n",
              "        buttonEl.style.display =\n",
              "          google.colab.kernel.accessAllowed ? 'block' : 'none';\n",
              "\n",
              "        async function convertToInteractive(key) {\n",
              "          const element = document.querySelector('#df-6befdcc5-c40e-48f2-9b84-8c6b928b5af0');\n",
              "          const dataTable =\n",
              "            await google.colab.kernel.invokeFunction('convertToInteractive',\n",
              "                                                     [key], {});\n",
              "          if (!dataTable) return;\n",
              "\n",
              "          const docLinkHtml = 'Like what you see? Visit the ' +\n",
              "            '<a target=\"_blank\" href=https://colab.research.google.com/notebooks/data_table.ipynb>data table notebook</a>'\n",
              "            + ' to learn more about interactive tables.';\n",
              "          element.innerHTML = '';\n",
              "          dataTable['output_type'] = 'display_data';\n",
              "          await google.colab.output.renderOutput(dataTable, element);\n",
              "          const docLink = document.createElement('div');\n",
              "          docLink.innerHTML = docLinkHtml;\n",
              "          element.appendChild(docLink);\n",
              "        }\n",
              "      </script>\n",
              "    </div>\n",
              "  </div>\n",
              "  "
            ]
          },
          "metadata": {},
          "execution_count": 15
        }
      ]
    },
    {
      "cell_type": "code",
      "source": [
        "cases_2010 = cases_2010.merge(acts_sections)\n",
        "cases_2010 = cases_2010.merge(disp_key,on='disp_name')\n",
        "cases_2010 = cases_2010.merge(purp_key,on='purpose_name')"
      ],
      "metadata": {
        "id": "TWqAR8kmjEW-"
      },
      "execution_count": 16,
      "outputs": []
    },
    {
      "cell_type": "code",
      "source": [
        "cases_2010['female_defendant'].value_counts()"
      ],
      "metadata": {
        "colab": {
          "base_uri": "https://localhost:8080/"
        },
        "id": "7BLGvPXLmBCV",
        "outputId": "4f7c9541-739d-47b9-f56d-bc5d2d3ea72b"
      },
      "execution_count": 17,
      "outputs": [
        {
          "output_type": "execute_result",
          "data": {
            "text/plain": [
              "0 male                1152083\n",
              "-9998 unclear          315893\n",
              "1 female               207475\n",
              "-9999 missing name      22813\n",
              "Name: female_defendant, dtype: int64"
            ]
          },
          "metadata": {},
          "execution_count": 17
        }
      ]
    },
    {
      "cell_type": "code",
      "source": [
        "cases_2010['female_petitioner'].value_counts()"
      ],
      "metadata": {
        "colab": {
          "base_uri": "https://localhost:8080/"
        },
        "id": "O247gBdEwHHH",
        "outputId": "2f85bb8c-bbbe-45d8-f277-c04df4da21fc"
      },
      "execution_count": 18,
      "outputs": [
        {
          "output_type": "execute_result",
          "data": {
            "text/plain": [
              "-9998 unclear         838841\n",
              "0 male                615470\n",
              "1 female              231961\n",
              "-9999 missing name     11992\n",
              "Name: female_petitioner, dtype: int64"
            ]
          },
          "metadata": {},
          "execution_count": 18
        }
      ]
    },
    {
      "cell_type": "code",
      "source": [
        "cases_2010['date_first_list'].value_counts()"
      ],
      "metadata": {
        "colab": {
          "base_uri": "https://localhost:8080/"
        },
        "id": "5WJciJI9I3Na",
        "outputId": "f2932fd7-3375-4eb7-9a4c-0e67b5285126"
      },
      "execution_count": 19,
      "outputs": [
        {
          "output_type": "execute_result",
          "data": {
            "text/plain": [
              "2010-12-11    6492\n",
              "2010-12-20    5141\n",
              "2010-11-29    5068\n",
              "2010-11-30    4762\n",
              "2010-11-22    4748\n",
              "              ... \n",
              "2008-09-01       1\n",
              "2009-09-05       1\n",
              "2006-12-13       1\n",
              "2009-04-07       1\n",
              "2009-02-25       1\n",
              "Name: date_first_list, Length: 3945, dtype: int64"
            ]
          },
          "metadata": {},
          "execution_count": 19
        }
      ]
    },
    {
      "cell_type": "code",
      "source": [
        "cases_2010['date_last_list'].value_counts()"
      ],
      "metadata": {
        "colab": {
          "base_uri": "https://localhost:8080/"
        },
        "id": "TU7Do5ZiJL5Y",
        "outputId": "1f86e122-1a26-41de-d62a-b581be7d61cb"
      },
      "execution_count": 20,
      "outputs": [
        {
          "output_type": "execute_result",
          "data": {
            "text/plain": [
              "2010-12-11    6442\n",
              "2014-12-06    3611\n",
              "2016-10-08    3422\n",
              "2011-11-19    3345\n",
              "2017-02-11    3329\n",
              "              ... \n",
              "2004-02-04       1\n",
              "2009-01-28       1\n",
              "2004-01-21       1\n",
              "2020-08-03       1\n",
              "2020-03-31       1\n",
              "Name: date_last_list, Length: 3905, dtype: int64"
            ]
          },
          "metadata": {},
          "execution_count": 20
        }
      ]
    },
    {
      "cell_type": "code",
      "source": [
        "cases_2010['date_of_filing'].value_counts()"
      ],
      "metadata": {
        "colab": {
          "base_uri": "https://localhost:8080/"
        },
        "id": "P6zU9TG_JkgQ",
        "outputId": "e397cfee-ede7-4482-fe16-7a0c4efb5159"
      },
      "execution_count": 21,
      "outputs": [
        {
          "output_type": "execute_result",
          "data": {
            "text/plain": [
              "2010-09-13    10501\n",
              "2010-12-23     8469\n",
              "2010-12-20     8385\n",
              "2010-11-29     8272\n",
              "2010-07-12     8186\n",
              "              ...  \n",
              "2010-03-14      173\n",
              "2010-02-14      169\n",
              "2010-07-11      166\n",
              "2010-01-31      153\n",
              "2010-08-15      148\n",
              "Name: date_of_filing, Length: 365, dtype: int64"
            ]
          },
          "metadata": {},
          "execution_count": 21
        }
      ]
    },
    {
      "cell_type": "code",
      "source": [
        "cases_2010['date_of_decision'].value_counts()"
      ],
      "metadata": {
        "colab": {
          "base_uri": "https://localhost:8080/"
        },
        "id": "FH3djVLVJqDh",
        "outputId": "73b1178c-4850-4b4f-c31b-5993ed8ef666"
      },
      "execution_count": 22,
      "outputs": [
        {
          "output_type": "execute_result",
          "data": {
            "text/plain": [
              "2014-12-06    8460\n",
              "2010-12-11    8350\n",
              "2011-02-06    8031\n",
              "2012-03-04    7680\n",
              "2013-11-23    7398\n",
              "              ... \n",
              "0211-10-14       1\n",
              "2009-09-09       1\n",
              "2020-03-25       1\n",
              "2009-05-13       1\n",
              "2020-03-31       1\n",
              "Name: date_of_decision, Length: 3907, dtype: int64"
            ]
          },
          "metadata": {},
          "execution_count": 22
        }
      ]
    },
    {
      "cell_type": "code",
      "source": [
        "len(cases_2010['date_first_list'].loc[1])"
      ],
      "metadata": {
        "colab": {
          "base_uri": "https://localhost:8080/"
        },
        "id": "W527ORBaneIu",
        "outputId": "80d8417d-a1ef-4b35-b8ec-0a910e832c0e"
      },
      "execution_count": 23,
      "outputs": [
        {
          "output_type": "execute_result",
          "data": {
            "text/plain": [
              "10"
            ]
          },
          "metadata": {},
          "execution_count": 23
        }
      ]
    },
    {
      "cell_type": "code",
      "source": [
        "for d in cases_2010.columns:\n",
        "  if 'date' in d:\n",
        "    cases_2010 = cases_2010[cases_2010[d].apply(lambda x: len(str(x)))==10]"
      ],
      "metadata": {
        "id": "3yLNwcUzNE_t"
      },
      "execution_count": 24,
      "outputs": []
    },
    {
      "cell_type": "code",
      "source": [
        "cases_2010.describe()"
      ],
      "metadata": {
        "colab": {
          "base_uri": "https://localhost:8080/",
          "height": 285
        },
        "id": "LiBE0pCOcB10",
        "outputId": "2489c910-827b-417f-9e59-bd3951ff7720"
      },
      "execution_count": 25,
      "outputs": [
        {
          "output_type": "execute_result",
          "data": {
            "text/plain": [
              "                     ddl_case_id   year_x state_code dist_code court_no  \\\n",
              "count                    1698264  1698264    1698264   1698264  1698264   \n",
              "unique                   1698264        1         31        75       64   \n",
              "top     01-01-01-200308002162010     2010          1        23        1   \n",
              "freq                           1  1698264     616004     87170   339501   \n",
              "\n",
              "                    cino               judge_position female_defendant  \\\n",
              "count            1698264                      1698264          1698264   \n",
              "unique           1697352                          393                4   \n",
              "top     BRMB100001552010  district and sessions court           0 male   \n",
              "freq                   2                       316764          1152083   \n",
              "\n",
              "       female_petitioner female_adv_def  ...  section bailable_ipc  \\\n",
              "count            1698264        1698264  ...  1698264      1698264   \n",
              "unique                 4              4  ...    91879            6   \n",
              "top        -9998 unclear          -9999  ...      nan          nan   \n",
              "freq              838841        1193144  ...   185617      1382312   \n",
              "\n",
              "       number_sections_ipc criminal   year_y disp_name_s  count_x     year  \\\n",
              "count              1698264  1698264  1698264     1698264  1698264  1698264   \n",
              "unique                  27        2        1          51       51        1   \n",
              "top                    nan        0     2010   acquitted   406015     2010   \n",
              "freq               1213222  1081458  1698264      227610   227610  1698264   \n",
              "\n",
              "       purpose_name_s  count_y  \n",
              "count         1698264  1698264  \n",
              "unique           3112      607  \n",
              "top         judgement   495331  \n",
              "freq           223480   223480  \n",
              "\n",
              "[4 rows x 30 columns]"
            ],
            "text/html": [
              "\n",
              "  <div id=\"df-a37b6257-f81b-47db-91a0-8353829fe3c2\">\n",
              "    <div class=\"colab-df-container\">\n",
              "      <div>\n",
              "<style scoped>\n",
              "    .dataframe tbody tr th:only-of-type {\n",
              "        vertical-align: middle;\n",
              "    }\n",
              "\n",
              "    .dataframe tbody tr th {\n",
              "        vertical-align: top;\n",
              "    }\n",
              "\n",
              "    .dataframe thead th {\n",
              "        text-align: right;\n",
              "    }\n",
              "</style>\n",
              "<table border=\"1\" class=\"dataframe\">\n",
              "  <thead>\n",
              "    <tr style=\"text-align: right;\">\n",
              "      <th></th>\n",
              "      <th>ddl_case_id</th>\n",
              "      <th>year_x</th>\n",
              "      <th>state_code</th>\n",
              "      <th>dist_code</th>\n",
              "      <th>court_no</th>\n",
              "      <th>cino</th>\n",
              "      <th>judge_position</th>\n",
              "      <th>female_defendant</th>\n",
              "      <th>female_petitioner</th>\n",
              "      <th>female_adv_def</th>\n",
              "      <th>...</th>\n",
              "      <th>section</th>\n",
              "      <th>bailable_ipc</th>\n",
              "      <th>number_sections_ipc</th>\n",
              "      <th>criminal</th>\n",
              "      <th>year_y</th>\n",
              "      <th>disp_name_s</th>\n",
              "      <th>count_x</th>\n",
              "      <th>year</th>\n",
              "      <th>purpose_name_s</th>\n",
              "      <th>count_y</th>\n",
              "    </tr>\n",
              "  </thead>\n",
              "  <tbody>\n",
              "    <tr>\n",
              "      <th>count</th>\n",
              "      <td>1698264</td>\n",
              "      <td>1698264</td>\n",
              "      <td>1698264</td>\n",
              "      <td>1698264</td>\n",
              "      <td>1698264</td>\n",
              "      <td>1698264</td>\n",
              "      <td>1698264</td>\n",
              "      <td>1698264</td>\n",
              "      <td>1698264</td>\n",
              "      <td>1698264</td>\n",
              "      <td>...</td>\n",
              "      <td>1698264</td>\n",
              "      <td>1698264</td>\n",
              "      <td>1698264</td>\n",
              "      <td>1698264</td>\n",
              "      <td>1698264</td>\n",
              "      <td>1698264</td>\n",
              "      <td>1698264</td>\n",
              "      <td>1698264</td>\n",
              "      <td>1698264</td>\n",
              "      <td>1698264</td>\n",
              "    </tr>\n",
              "    <tr>\n",
              "      <th>unique</th>\n",
              "      <td>1698264</td>\n",
              "      <td>1</td>\n",
              "      <td>31</td>\n",
              "      <td>75</td>\n",
              "      <td>64</td>\n",
              "      <td>1697352</td>\n",
              "      <td>393</td>\n",
              "      <td>4</td>\n",
              "      <td>4</td>\n",
              "      <td>4</td>\n",
              "      <td>...</td>\n",
              "      <td>91879</td>\n",
              "      <td>6</td>\n",
              "      <td>27</td>\n",
              "      <td>2</td>\n",
              "      <td>1</td>\n",
              "      <td>51</td>\n",
              "      <td>51</td>\n",
              "      <td>1</td>\n",
              "      <td>3112</td>\n",
              "      <td>607</td>\n",
              "    </tr>\n",
              "    <tr>\n",
              "      <th>top</th>\n",
              "      <td>01-01-01-200308002162010</td>\n",
              "      <td>2010</td>\n",
              "      <td>1</td>\n",
              "      <td>23</td>\n",
              "      <td>1</td>\n",
              "      <td>BRMB100001552010</td>\n",
              "      <td>district and sessions court</td>\n",
              "      <td>0 male</td>\n",
              "      <td>-9998 unclear</td>\n",
              "      <td>-9999</td>\n",
              "      <td>...</td>\n",
              "      <td>nan</td>\n",
              "      <td>nan</td>\n",
              "      <td>nan</td>\n",
              "      <td>0</td>\n",
              "      <td>2010</td>\n",
              "      <td>acquitted</td>\n",
              "      <td>406015</td>\n",
              "      <td>2010</td>\n",
              "      <td>judgement</td>\n",
              "      <td>495331</td>\n",
              "    </tr>\n",
              "    <tr>\n",
              "      <th>freq</th>\n",
              "      <td>1</td>\n",
              "      <td>1698264</td>\n",
              "      <td>616004</td>\n",
              "      <td>87170</td>\n",
              "      <td>339501</td>\n",
              "      <td>2</td>\n",
              "      <td>316764</td>\n",
              "      <td>1152083</td>\n",
              "      <td>838841</td>\n",
              "      <td>1193144</td>\n",
              "      <td>...</td>\n",
              "      <td>185617</td>\n",
              "      <td>1382312</td>\n",
              "      <td>1213222</td>\n",
              "      <td>1081458</td>\n",
              "      <td>1698264</td>\n",
              "      <td>227610</td>\n",
              "      <td>227610</td>\n",
              "      <td>1698264</td>\n",
              "      <td>223480</td>\n",
              "      <td>223480</td>\n",
              "    </tr>\n",
              "  </tbody>\n",
              "</table>\n",
              "<p>4 rows × 30 columns</p>\n",
              "</div>\n",
              "      <button class=\"colab-df-convert\" onclick=\"convertToInteractive('df-a37b6257-f81b-47db-91a0-8353829fe3c2')\"\n",
              "              title=\"Convert this dataframe to an interactive table.\"\n",
              "              style=\"display:none;\">\n",
              "        \n",
              "  <svg xmlns=\"http://www.w3.org/2000/svg\" height=\"24px\"viewBox=\"0 0 24 24\"\n",
              "       width=\"24px\">\n",
              "    <path d=\"M0 0h24v24H0V0z\" fill=\"none\"/>\n",
              "    <path d=\"M18.56 5.44l.94 2.06.94-2.06 2.06-.94-2.06-.94-.94-2.06-.94 2.06-2.06.94zm-11 1L8.5 8.5l.94-2.06 2.06-.94-2.06-.94L8.5 2.5l-.94 2.06-2.06.94zm10 10l.94 2.06.94-2.06 2.06-.94-2.06-.94-.94-2.06-.94 2.06-2.06.94z\"/><path d=\"M17.41 7.96l-1.37-1.37c-.4-.4-.92-.59-1.43-.59-.52 0-1.04.2-1.43.59L10.3 9.45l-7.72 7.72c-.78.78-.78 2.05 0 2.83L4 21.41c.39.39.9.59 1.41.59.51 0 1.02-.2 1.41-.59l7.78-7.78 2.81-2.81c.8-.78.8-2.07 0-2.86zM5.41 20L4 18.59l7.72-7.72 1.47 1.35L5.41 20z\"/>\n",
              "  </svg>\n",
              "      </button>\n",
              "      \n",
              "  <style>\n",
              "    .colab-df-container {\n",
              "      display:flex;\n",
              "      flex-wrap:wrap;\n",
              "      gap: 12px;\n",
              "    }\n",
              "\n",
              "    .colab-df-convert {\n",
              "      background-color: #E8F0FE;\n",
              "      border: none;\n",
              "      border-radius: 50%;\n",
              "      cursor: pointer;\n",
              "      display: none;\n",
              "      fill: #1967D2;\n",
              "      height: 32px;\n",
              "      padding: 0 0 0 0;\n",
              "      width: 32px;\n",
              "    }\n",
              "\n",
              "    .colab-df-convert:hover {\n",
              "      background-color: #E2EBFA;\n",
              "      box-shadow: 0px 1px 2px rgba(60, 64, 67, 0.3), 0px 1px 3px 1px rgba(60, 64, 67, 0.15);\n",
              "      fill: #174EA6;\n",
              "    }\n",
              "\n",
              "    [theme=dark] .colab-df-convert {\n",
              "      background-color: #3B4455;\n",
              "      fill: #D2E3FC;\n",
              "    }\n",
              "\n",
              "    [theme=dark] .colab-df-convert:hover {\n",
              "      background-color: #434B5C;\n",
              "      box-shadow: 0px 1px 3px 1px rgba(0, 0, 0, 0.15);\n",
              "      filter: drop-shadow(0px 1px 2px rgba(0, 0, 0, 0.3));\n",
              "      fill: #FFFFFF;\n",
              "    }\n",
              "  </style>\n",
              "\n",
              "      <script>\n",
              "        const buttonEl =\n",
              "          document.querySelector('#df-a37b6257-f81b-47db-91a0-8353829fe3c2 button.colab-df-convert');\n",
              "        buttonEl.style.display =\n",
              "          google.colab.kernel.accessAllowed ? 'block' : 'none';\n",
              "\n",
              "        async function convertToInteractive(key) {\n",
              "          const element = document.querySelector('#df-a37b6257-f81b-47db-91a0-8353829fe3c2');\n",
              "          const dataTable =\n",
              "            await google.colab.kernel.invokeFunction('convertToInteractive',\n",
              "                                                     [key], {});\n",
              "          if (!dataTable) return;\n",
              "\n",
              "          const docLinkHtml = 'Like what you see? Visit the ' +\n",
              "            '<a target=\"_blank\" href=https://colab.research.google.com/notebooks/data_table.ipynb>data table notebook</a>'\n",
              "            + ' to learn more about interactive tables.';\n",
              "          element.innerHTML = '';\n",
              "          dataTable['output_type'] = 'display_data';\n",
              "          await google.colab.output.renderOutput(dataTable, element);\n",
              "          const docLink = document.createElement('div');\n",
              "          docLink.innerHTML = docLinkHtml;\n",
              "          element.appendChild(docLink);\n",
              "        }\n",
              "      </script>\n",
              "    </div>\n",
              "  </div>\n",
              "  "
            ]
          },
          "metadata": {},
          "execution_count": 25
        }
      ]
    },
    {
      "cell_type": "code",
      "source": [
        "for d in cases_2010.columns:\n",
        "  if 'date' in d:\n",
        "    cases_2010[d] = pd.to_datetime(cases_2010[d], errors='coerce').dt.date"
      ],
      "metadata": {
        "id": "t9bG68w3pQ-e"
      },
      "execution_count": 26,
      "outputs": []
    },
    {
      "cell_type": "code",
      "source": [
        "cases_2010.dropna(inplace=True)"
      ],
      "metadata": {
        "id": "OTfro4-DrVsD"
      },
      "execution_count": 27,
      "outputs": []
    },
    {
      "cell_type": "code",
      "source": [
        "cases_2010.describe()"
      ],
      "metadata": {
        "id": "pXWVOisBrbDw"
      },
      "execution_count": null,
      "outputs": []
    },
    {
      "cell_type": "code",
      "source": [
        "cases_2010['judge_position'].value_counts()"
      ],
      "metadata": {
        "id": "erdSuAj9vIj5"
      },
      "execution_count": null,
      "outputs": []
    },
    {
      "cell_type": "code",
      "source": [
        "for d in cases_2010.columns:\n",
        "  if 'female' in d:\n",
        "    cases_2010 = cases_2010[~cases_2010[d].str.contains('-9998|-9999')]"
      ],
      "metadata": {
        "id": "vDOiwg6QtojT"
      },
      "execution_count": null,
      "outputs": []
    },
    {
      "cell_type": "code",
      "source": [
        "cases_2010.describe()"
      ],
      "metadata": {
        "id": "ODoirYxouy4g"
      },
      "execution_count": null,
      "outputs": []
    },
    {
      "cell_type": "code",
      "source": [
        "cases_2010['judge_position'].value_counts()"
      ],
      "metadata": {
        "id": "j44XNBoAvetP"
      },
      "execution_count": null,
      "outputs": []
    },
    {
      "cell_type": "code",
      "source": [
        "sum(cases_2010['cino'].value_counts()==1)"
      ],
      "metadata": {
        "id": "-M2AMKaNF_iG"
      },
      "execution_count": null,
      "outputs": []
    },
    {
      "cell_type": "code",
      "source": [
        "cases_2010.drop(columns=['ddl_case_id','year','year_x','year_y','cino','count_x','count_y','purpose_name','disp_name'],inplace=True)"
      ],
      "metadata": {
        "id": "u-D6AtwOKaFn"
      },
      "execution_count": null,
      "outputs": []
    },
    {
      "cell_type": "code",
      "source": [
        "cases_2010.describe()"
      ],
      "metadata": {
        "id": "mVwPV_YeLceK"
      },
      "execution_count": null,
      "outputs": []
    },
    {
      "cell_type": "code",
      "source": [
        "cases_2010['court_id'] = cases_2010['state_code']+'-'+cases_2010['dist_code']+'-'+cases_2010['court_no']"
      ],
      "metadata": {
        "id": "UM6jBKW2PR9Y"
      },
      "execution_count": null,
      "outputs": []
    },
    {
      "cell_type": "code",
      "source": [
        "cases_2010.describe()"
      ],
      "metadata": {
        "id": "gx9TO79hP_so"
      },
      "execution_count": null,
      "outputs": []
    },
    {
      "cell_type": "code",
      "source": [
        "cases_2010.drop(columns=['state_code','dist_code','court_no'],inplace=True)"
      ],
      "metadata": {
        "id": "kZfiOwguQHTS"
      },
      "execution_count": null,
      "outputs": []
    },
    {
      "cell_type": "code",
      "source": [
        "cases_2010.describe()"
      ],
      "metadata": {
        "id": "pSbWyexeQ_2D"
      },
      "execution_count": null,
      "outputs": []
    },
    {
      "cell_type": "code",
      "source": [
        "cases_2010_v2 = cases_2010.astype('category')"
      ],
      "metadata": {
        "id": "B5Y0LQU2LklS"
      },
      "execution_count": null,
      "outputs": []
    },
    {
      "cell_type": "code",
      "source": [
        "cases_2010_v2.describe()"
      ],
      "metadata": {
        "id": "3NuENM2JL8hA"
      },
      "execution_count": null,
      "outputs": []
    },
    {
      "cell_type": "code",
      "source": [
        "from scipy.stats import chi2_contingency\n",
        "import seaborn as sns\n",
        "\n",
        "def chitest(a,b):\n",
        "  return chi2_contingency(pd.crosstab(index=a,columns=b))[1]\n",
        "\n",
        "pd.DataFrame([chi2_contingency(pd.crosstab(index = cases_2010_v2[a],columns=cases_2010_v2[b])) for b in cases_2010_v2.columns for a in cases_2010_v2.columns],index=cases_2010_v2.columns,columns=cases_2010_v2.columns)"
      ],
      "metadata": {
        "id": "6EKBA3T7Ancd"
      },
      "execution_count": null,
      "outputs": []
    },
    {
      "cell_type": "code",
      "source": [
        "chi2_contingency(pd.crosstab(index = cases_2010_v2['female_petitioner'],columns=cases_2010_v2['female_defendant']))"
      ],
      "metadata": {
        "id": "XNB9MMCbOQJm"
      },
      "execution_count": null,
      "outputs": []
    },
    {
      "cell_type": "code",
      "source": [],
      "metadata": {
        "id": "PY9lND6LECeG"
      },
      "execution_count": null,
      "outputs": []
    }
  ]
}